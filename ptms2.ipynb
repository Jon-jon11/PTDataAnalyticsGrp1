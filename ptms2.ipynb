{
 "cells": [
  {
   "cell_type": "code",
   "execution_count": 55,
   "id": "9b430b65-b2b4-4a81-b9ec-23143b35dff9",
   "metadata": {},
   "outputs": [],
   "source": [
    "# # Data Cleaning for FinMark Corporation\n",
    "# **Objective**: Clean event logs, trend reports, and marketing data to support:\n",
    "# 1. Order pattern analysis\n",
    "# 2. Peak time/downtime correlation\n",
    "# 3. Inventory demand forecasting"
   ]
  },
  {
   "cell_type": "code",
   "execution_count": 57,
   "id": "60b7a4a3-3eac-455a-b41a-c488572278cd",
   "metadata": {},
   "outputs": [],
   "source": [
    "# Steps:\n",
    "# 1. Show null value summary before cleaning\n",
    "# 2. Remove undefined columns (`col_6` to `col_50`)\n",
    "# 3. Handle missing values in key columns\n",
    "# 4. Ensure correct data types\n",
    "# 5. Show null value summary after cleaning"
   ]
  },
  {
   "cell_type": "code",
   "execution_count": 59,
   "id": "86ce4ca8-39b6-4a0e-b132-f4c76b962e65",
   "metadata": {},
   "outputs": [],
   "source": [
    "import pandas as pd\n",
    "import numpy as np"
   ]
  },
  {
   "cell_type": "code",
   "execution_count": 61,
   "id": "87099258-9264-4925-a19c-c295ba18a66f",
   "metadata": {},
   "outputs": [],
   "source": [
    "# 1. Event Logs Cleaning\n",
    "# - **Critical Columns**: `user_id`, `event_type`, `event_time`, `product_id`, `amount`"
   ]
  },
  {
   "cell_type": "code",
   "execution_count": 63,
   "id": "04ec4021-1523-44ae-8d88-396ea30b8623",
   "metadata": {},
   "outputs": [],
   "source": [
    "# Load data\n",
    "event_logs = pd.read_csv('event_logs.csv')"
   ]
  },
  {
   "cell_type": "code",
   "execution_count": 65,
   "id": "1dc72ddf-266c-4b1e-b4e4-65c9121d90e6",
   "metadata": {},
   "outputs": [
    {
     "name": "stdout",
     "output_type": "stream",
     "text": [
      "=== Event Logs - BEFORE CLEANING ===\n",
      "Total records: 2000\n",
      "Null values per column:\n",
      "user_id          0\n",
      "event_type       0\n",
      "event_time       0\n",
      "product_id       0\n",
      "amount        1016\n",
      "dtype: int64\n"
     ]
    }
   ],
   "source": [
    "# Show initial null summary\n",
    "print(\"=== Event Logs - BEFORE CLEANING ===\")\n",
    "print(f\"Total records: {len(event_logs)}\")\n",
    "print(\"Null values per column:\")\n",
    "print(event_logs.iloc[:, :5].isnull().sum())"
   ]
  },
  {
   "cell_type": "code",
   "execution_count": 67,
   "id": "8e3a5164-36ce-40cf-9d47-6ee2a4f0aaaa",
   "metadata": {},
   "outputs": [],
   "source": [
    "# Remove undefined columns\n",
    "event_logs_clean = event_logs.iloc[:, :5].copy()"
   ]
  },
  {
   "cell_type": "code",
   "execution_count": 69,
   "id": "1385043a-2b51-4f62-916b-10ff9fd406fa",
   "metadata": {},
   "outputs": [],
   "source": [
    "# Rename columns for clarity\n",
    "event_logs_clean.columns = ['user_id', 'event_type', 'event_time', 'product_id', 'amount']"
   ]
  },
  {
   "cell_type": "code",
   "execution_count": 71,
   "id": "d495dd38-e5cd-49c5-bb0a-2c416182f6a1",
   "metadata": {},
   "outputs": [],
   "source": [
    "# Convert to datetime - specify common formats to avoid warnings\n",
    "event_logs_clean['event_time'] = pd.to_datetime(\n",
    "    event_logs_clean['event_time'], \n",
    "    format='mixed',  # Handle multiple datetime formats\n",
    "    errors='coerce'\n",
    ")"
   ]
  },
  {
   "cell_type": "code",
   "execution_count": 73,
   "id": "e5df1055-7059-47e5-8b82-03bbf9e5bac6",
   "metadata": {},
   "outputs": [],
   "source": [
    "# Handle missing values\n",
    "event_logs_clean['event_type'] = event_logs_clean['event_type'].fillna('unknown')\n",
    "event_logs_clean['user_id'] = event_logs_clean['user_id'].fillna('UNK').astype(str)"
   ]
  },
  {
   "cell_type": "code",
   "execution_count": 75,
   "id": "de95e212-755a-4272-9192-adecb8c16f1b",
   "metadata": {},
   "outputs": [],
   "source": [
    "# Product/amount handling: Only relevant for orders\n",
    "order_mask = event_logs_clean['event_type'].str.contains('order|purchase', case=False, na=False)\n",
    "event_logs_clean.loc[order_mask, 'product_id'] = event_logs_clean.loc[order_mask, 'product_id'].fillna('PROD_UNK')\n",
    "event_logs_clean.loc[order_mask, 'amount'] = event_logs_clean.loc[order_mask, 'amount'].fillna(0)\n",
    "event_logs_clean.loc[~order_mask, 'product_id'] = event_logs_clean.loc[~order_mask, 'product_id'].fillna('N/A')\n",
    "event_logs_clean.loc[~order_mask, 'amount'] = 0"
   ]
  },
  {
   "cell_type": "code",
   "execution_count": 77,
   "id": "84378dc6-b543-4b00-a1e6-bf94b6f9eea1",
   "metadata": {},
   "outputs": [
    {
     "name": "stdout",
     "output_type": "stream",
     "text": [
      "\n",
      "=== Event Logs - AFTER CLEANING ===\n",
      "Total records: 2000\n",
      "Null values per column:\n",
      "user_id       0\n",
      "event_type    0\n",
      "event_time    0\n",
      "product_id    0\n",
      "amount        0\n",
      "dtype: int64\n"
     ]
    }
   ],
   "source": [
    "# Show post-cleaning summary\n",
    "print(\"\\n=== Event Logs - AFTER CLEANING ===\")\n",
    "print(f\"Total records: {len(event_logs_clean)}\")\n",
    "print(\"Null values per column:\")\n",
    "print(event_logs_clean.isnull().sum())"
   ]
  },
  {
   "cell_type": "code",
   "execution_count": 79,
   "id": "24800cd3-1cd3-4a71-939d-6c625a318921",
   "metadata": {},
   "outputs": [],
   "source": [
    "# Save cleaned data\n",
    "event_logs_clean.to_csv('cleaned_event_logs.csv', index=False)"
   ]
  },
  {
   "cell_type": "code",
   "execution_count": 81,
   "id": "7d7bd23e-4c61-4999-8e27-b54875678950",
   "metadata": {},
   "outputs": [],
   "source": [
    "# ## 2. Trend Report Cleaning\n",
    "# - **Key Metrics**: `week`, `avg_users`, `sales_growth_rate`"
   ]
  },
  {
   "cell_type": "code",
   "execution_count": 83,
   "id": "23f86647-bbc8-4fed-aac5-e1a73a295577",
   "metadata": {},
   "outputs": [],
   "source": [
    "trend_report = pd.read_csv('trend_report.csv')"
   ]
  },
  {
   "cell_type": "code",
   "execution_count": 85,
   "id": "4b0b68b8-7648-4a18-9f16-8313ab796286",
   "metadata": {},
   "outputs": [
    {
     "name": "stdout",
     "output_type": "stream",
     "text": [
      "\n",
      "=== Trend Report - BEFORE CLEANING ===\n",
      "Total records: 20\n",
      "Null values per column:\n",
      "week                 0\n",
      "avg_users            0\n",
      "sales_growth_rate    0\n",
      "dtype: int64\n"
     ]
    }
   ],
   "source": [
    "# Show initial null summary\n",
    "print(\"\\n=== Trend Report - BEFORE CLEANING ===\")\n",
    "print(f\"Total records: {len(trend_report)}\")\n",
    "print(\"Null values per column:\")\n",
    "print(trend_report.iloc[:, :3].isnull().sum())"
   ]
  },
  {
   "cell_type": "code",
   "execution_count": 87,
   "id": "1e29f912-3968-4d31-9625-41561353975f",
   "metadata": {},
   "outputs": [],
   "source": [
    "# Keep only relevant columns\n",
    "trend_clean = trend_report.iloc[:, :3].copy()\n",
    "trend_clean.columns = ['week', 'avg_users', 'sales_growth_rate']"
   ]
  },
  {
   "cell_type": "code",
   "execution_count": 89,
   "id": "996dd21d-ebd7-4856-9722-556ff0c8efa0",
   "metadata": {},
   "outputs": [],
   "source": [
    "# Handle dates - specify ISO format to avoid warnings\n",
    "trend_clean['week'] = pd.to_datetime(\n",
    "    trend_clean['week'], \n",
    "    format='ISO8601',  # Standard date format\n",
    "    errors='coerce'\n",
    ")"
   ]
  },
  {
   "cell_type": "code",
   "execution_count": 91,
   "id": "b1baf8cd-28a0-4602-bb85-10b8934db1bb",
   "metadata": {},
   "outputs": [],
   "source": [
    "# Sort before forward-filling\n",
    "trend_clean.sort_values('week', inplace=True)"
   ]
  },
  {
   "cell_type": "code",
   "execution_count": 93,
   "id": "6fb953ea-b449-460f-9f42-369fe07be5cb",
   "metadata": {},
   "outputs": [],
   "source": [
    "# Fill numeric metrics using forward fill\n",
    "trend_clean['avg_users'] = trend_clean['avg_users'].fillna(0)\n",
    "trend_clean['sales_growth_rate'] = trend_clean['sales_growth_rate'].ffill().fillna(0)"
   ]
  },
  {
   "cell_type": "code",
   "execution_count": 95,
   "id": "3e967055-4a28-4e44-b1e3-17c25a528f5d",
   "metadata": {},
   "outputs": [
    {
     "name": "stdout",
     "output_type": "stream",
     "text": [
      "\n",
      "=== Trend Report - AFTER CLEANING ===\n",
      "Total records: 20\n",
      "Null values per column:\n",
      "week                 20\n",
      "avg_users             0\n",
      "sales_growth_rate     0\n",
      "dtype: int64\n"
     ]
    }
   ],
   "source": [
    "# Show post-cleaning summary\n",
    "print(\"\\n=== Trend Report - AFTER CLEANING ===\")\n",
    "print(f\"Total records: {len(trend_clean)}\")\n",
    "print(\"Null values per column:\")\n",
    "print(trend_clean.isnull().sum())"
   ]
  },
  {
   "cell_type": "code",
   "execution_count": 97,
   "id": "c9aba6f9-b28e-47ba-8436-e9989e958d2b",
   "metadata": {},
   "outputs": [],
   "source": [
    "trend_clean.to_csv('cleaned_trend_report.csv', index=False)"
   ]
  },
  {
   "cell_type": "code",
   "execution_count": 99,
   "id": "08d637ba-a24f-4281-aaa0-d783636e0cdc",
   "metadata": {},
   "outputs": [],
   "source": [
    "# ## 3. Marketing Summary Cleaning\n",
    "# - **Core Columns**: `date`, `users_active`, `total_sales`, `new_customers`"
   ]
  },
  {
   "cell_type": "code",
   "execution_count": 101,
   "id": "4c5a2153-f6ee-4844-a328-fd66b90d2871",
   "metadata": {},
   "outputs": [],
   "source": [
    "marketing = pd.read_csv('marketing_summary.csv')"
   ]
  },
  {
   "cell_type": "code",
   "execution_count": 103,
   "id": "ad3e0f5d-43c1-449d-8965-6aeebb844824",
   "metadata": {},
   "outputs": [
    {
     "name": "stdout",
     "output_type": "stream",
     "text": [
      "\n",
      "=== Marketing Summary - BEFORE CLEANING ===\n",
      "Total records: 100\n",
      "Null values per column:\n",
      "date             0\n",
      "users_active     0\n",
      "total_sales      0\n",
      "new_customers    0\n",
      "dtype: int64\n"
     ]
    }
   ],
   "source": [
    "# Show initial null summary\n",
    "print(\"\\n=== Marketing Summary - BEFORE CLEANING ===\")\n",
    "print(f\"Total records: {len(marketing)}\")\n",
    "print(\"Null values per column:\")\n",
    "print(marketing.iloc[:, :4].isnull().sum())"
   ]
  },
  {
   "cell_type": "code",
   "execution_count": 105,
   "id": "41400db6-00e8-4cc2-8690-5b1ce5e1e55d",
   "metadata": {},
   "outputs": [],
   "source": [
    "# Keep relevant columns\n",
    "marketing_clean = marketing.iloc[:, :4].copy()\n",
    "marketing_clean.columns = ['date', 'users_active', 'total_sales', 'new_customers']"
   ]
  },
  {
   "cell_type": "code",
   "execution_count": 107,
   "id": "5ee3efeb-5875-45d8-b379-ca816577063d",
   "metadata": {},
   "outputs": [],
   "source": [
    "# Date conversion - specify format to avoid warnings\n",
    "marketing_clean['date'] = pd.to_datetime(\n",
    "    marketing_clean['date'], \n",
    "    format='ISO8601',  # Standard date format\n",
    "    errors='coerce'\n",
    ")"
   ]
  },
  {
   "cell_type": "code",
   "execution_count": 109,
   "id": "4cb81d0b-5aa3-411c-8b03-1939d0d94a74",
   "metadata": {},
   "outputs": [],
   "source": [
    "# Fill sequential data (time-series)\n",
    "marketing_clean.sort_values('date', inplace=True)\n",
    "for col in ['users_active', 'total_sales', 'new_customers']:\n",
    "    marketing_clean[col] = marketing_clean[col].ffill().fillna(0)"
   ]
  },
  {
   "cell_type": "code",
   "execution_count": 113,
   "id": "808c3564-47d3-4ddf-bd96-71ec18985b24",
   "metadata": {},
   "outputs": [
    {
     "name": "stdout",
     "output_type": "stream",
     "text": [
      "\n",
      "=== Marketing Summary - AFTER CLEANING ===\n",
      "Total records: 100\n",
      "Null values per column:\n",
      "date             0\n",
      "users_active     0\n",
      "total_sales      0\n",
      "new_customers    0\n",
      "dtype: int64\n"
     ]
    }
   ],
   "source": [
    "# Show post-cleaning summary\n",
    "print(\"\\n=== Marketing Summary - AFTER CLEANING ===\")\n",
    "print(f\"Total records: {len(marketing_clean)}\")\n",
    "print(\"Null values per column:\")\n",
    "print(marketing_clean.isnull().sum())"
   ]
  },
  {
   "cell_type": "code",
   "execution_count": 115,
   "id": "ddc7e546-5ed1-4b16-bbe8-57d7c0b1a9cf",
   "metadata": {},
   "outputs": [],
   "source": [
    "marketing_clean.to_csv('cleaned_marketing_summary.csv', index=False)"
   ]
  },
  {
   "cell_type": "code",
   "execution_count": 117,
   "id": "0efddc2f-edf1-4c5c-9f23-ade0b570d47d",
   "metadata": {},
   "outputs": [],
   "source": [
    "# ## Next Steps for Analysis\n",
    "# With cleaned data, we can now:\n",
    "# 1. **Identify Peak Order Times**:\n",
    "# 2. **Correlate System Errors with Order Volume**:\n",
    "# 3. **Forecast Demand**:\n",
    "# 4. **Infrastructure Scaling Analysis**:"
   ]
  },
  {
   "cell_type": "code",
   "execution_count": null,
   "id": "249ed075-cce8-45dc-9bea-bd0a5b67633c",
   "metadata": {},
   "outputs": [],
   "source": []
  }
 ],
 "metadata": {
  "kernelspec": {
   "display_name": "Python [conda env:base] *",
   "language": "python",
   "name": "conda-base-py"
  },
  "language_info": {
   "codemirror_mode": {
    "name": "ipython",
    "version": 3
   },
   "file_extension": ".py",
   "mimetype": "text/x-python",
   "name": "python",
   "nbconvert_exporter": "python",
   "pygments_lexer": "ipython3",
   "version": "3.12.7"
  }
 },
 "nbformat": 4,
 "nbformat_minor": 5
}
